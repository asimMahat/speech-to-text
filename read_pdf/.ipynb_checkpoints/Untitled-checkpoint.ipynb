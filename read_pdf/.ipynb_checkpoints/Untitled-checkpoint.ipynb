{
 "cells": [
  {
   "cell_type": "code",
   "execution_count": 1,
   "id": "5ef83021-575e-4306-9648-75f4ebd8f423",
   "metadata": {},
   "outputs": [],
   "source": [
    "#Importing necessary modules \n",
    "import pyttsx3\n",
    "import PyPDF2"
   ]
  },
  {
   "cell_type": "code",
   "execution_count": 2,
   "id": "14ccf9c9-6943-47ab-8d4c-f4a60e224270",
   "metadata": {},
   "outputs": [
    {
     "name": "stdout",
     "output_type": "stream",
     "text": [
      "<_io.BufferedReader name='sample.pdf'>\n"
     ]
    }
   ],
   "source": [
    "# Read the PDF file binary mode\n",
    "pdf_file = open('sample.pdf', 'rb')\n",
    "print(type(pdf_file))"
   ]
  },
  {
   "cell_type": "code",
   "execution_count": null,
   "id": "57317a1b-1c2f-41f8-98ef-d0cf166f6b88",
   "metadata": {},
   "outputs": [],
   "source": []
  }
 ],
 "metadata": {
  "kernelspec": {
   "display_name": "Python 3",
   "language": "python",
   "name": "python3"
  },
  "language_info": {
   "codemirror_mode": {
    "name": "ipython",
    "version": 3
   },
   "file_extension": ".py",
   "mimetype": "text/x-python",
   "name": "python",
   "nbconvert_exporter": "python",
   "pygments_lexer": "ipython3",
   "version": "3.8.11"
  }
 },
 "nbformat": 4,
 "nbformat_minor": 5
}
