{
 "cells": [
  {
   "cell_type": "code",
   "execution_count": 2,
   "id": "5ef83021-575e-4306-9648-75f4ebd8f423",
   "metadata": {},
   "outputs": [],
   "source": [
    "#Importing necessary modules \n",
    "import pyttsx3\n",
    "import PyPDF2"
   ]
  },
  {
   "cell_type": "code",
   "execution_count": 3,
   "id": "14ccf9c9-6943-47ab-8d4c-f4a60e224270",
   "metadata": {},
   "outputs": [
    {
     "name": "stdout",
     "output_type": "stream",
     "text": [
      "<class '_io.BufferedReader'>\n"
     ]
    }
   ],
   "source": [
    "# Read the PDF file binary mode\n",
    "pdf_file = open('sample.pdf', 'rb')\n",
    "print(type(pdf_file))"
   ]
  },
  {
   "cell_type": "code",
   "execution_count": 4,
   "id": "57317a1b-1c2f-41f8-98ef-d0cf166f6b88",
   "metadata": {},
   "outputs": [
    {
     "name": "stdout",
     "output_type": "stream",
     "text": [
      "<class 'PyPDF2.pdf.PdfFileReader'>\n"
     ]
    }
   ],
   "source": [
    "read_pdf = PyPDF2.PdfFileReader(pdf_file, strict=False)\n",
    "print(type(read_pdf))"
   ]
  },
  {
   "cell_type": "code",
   "execution_count": 5,
   "id": "820f520e-052e-4b22-985f-8ebd74013c14",
   "metadata": {},
   "outputs": [
    {
     "name": "stdout",
     "output_type": "stream",
     "text": [
      "2\n"
     ]
    }
   ],
   "source": [
    "#Find the number of pages in the PDF document\n",
    "number_of_pages = read_pdf.getNumPages()\n",
    "print(number_of_pages)"
   ]
  },
  {
   "cell_type": "code",
   "execution_count": 6,
   "id": "ca468131-cd0b-43ea-92de-59b0482f10e5",
   "metadata": {},
   "outputs": [
    {
     "name": "stdout",
     "output_type": "stream",
     "text": [
      "<class 'pyttsx3.engine.Engine'>\n"
     ]
    }
   ],
   "source": [
    "engine = pyttsx3.init()\n",
    "print(type(engine))"
   ]
  },
  {
   "cell_type": "code",
   "execution_count": 7,
   "id": "0c9c2352-4756-4714-9cbe-7233f92fa8b0",
   "metadata": {},
   "outputs": [],
   "source": [
    "text = 'The quick brown fox jumped over the lazy dog.'\n",
    "engine.say(text)"
   ]
  },
  {
   "cell_type": "code",
   "execution_count": 8,
   "id": "3d344888-074c-475c-8868-930f9b9e51df",
   "metadata": {},
   "outputs": [
    {
     "name": "stdout",
     "output_type": "stream",
     "text": [
      "<class 'str'>\n"
     ]
    }
   ],
   "source": [
    "\n",
    "page = read_pdf.getPage(0)\n",
    "# print(type(page))\n",
    "page_content = page.extractText()\n",
    "print(type((page_content)))\n",
    "# print(repr(page_content))"
   ]
  },
  {
   "cell_type": "code",
   "execution_count": 9,
   "id": "e3186c32-506f-40f3-9f7b-e3ec127acf92",
   "metadata": {},
   "outputs": [],
   "source": [
    "# setting audio properties\n",
    "newrate=200\n",
    "engine .setProperty('rate',newrate)\n",
    "newvolume = 200\n",
    "engine.setProperty('volume',newvolume)"
   ]
  },
  {
   "cell_type": "code",
   "execution_count": null,
   "id": "85b203b5-8736-4e71-8f9e-02f4221ceecb",
   "metadata": {},
   "outputs": [],
   "source": [
    "# saying the output \n",
    "engine.say(page_content)\n",
    "engine.runAndWait()\n"
   ]
  },
  {
   "cell_type": "code",
   "execution_count": null,
   "id": "50ecc834-d622-496e-9c7b-6aca764b2c97",
   "metadata": {},
   "outputs": [],
   "source": []
  }
 ],
 "metadata": {
  "kernelspec": {
   "display_name": "Python 3",
   "language": "python",
   "name": "python3"
  },
  "language_info": {
   "codemirror_mode": {
    "name": "ipython",
    "version": 3
   },
   "file_extension": ".py",
   "mimetype": "text/x-python",
   "name": "python",
   "nbconvert_exporter": "python",
   "pygments_lexer": "ipython3",
   "version": "3.8.11"
  }
 },
 "nbformat": 4,
 "nbformat_minor": 5
}
